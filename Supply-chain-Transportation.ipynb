{
 "cells": [
  {
   "cell_type": "markdown",
   "id": "d8ebb6cf",
   "metadata": {},
   "source": [
    "# Transportation Problem\n",
    "\n",
    "\\begin{align*}\n",
    "\\text{Minimize} \\quad & \\sum_{i=1}^{m} \\sum_{j=1}^{n} c_{ij}x_{ij} & \\\\\n",
    "\\text{Subject to} \\quad & \\sum_{j=1}^{n} x_{ij} \\leq S_i & (i = 1, 2, \\dots, m) \\\\\n",
    "& \\sum_{i=1}^{m} x_{ij} \\geq D_j & (j = 1, 2, \\dots, n) \\\\\n",
    "& x_{ij} \\geq 0 & (i = 1, 2, \\dots, m, j = 1, 2, \\dots, n)\n",
    "\\end{align*}\n",
    "\n",
    "\n",
    "### Parameters\n",
    "- $m$ and $n$ are the number of supply and demand locations respectively.\n",
    "- $c_{ij}$ is the cost of shipping one unit of goods from supply location $i$ to demand location $j$.\n",
    "- $S_i$ is the number of units of goods that can be shipped from supply location $i$.\n",
    "- $D_j$ is the number of units of goods that need to be shippedto demand location $j$.\n",
    "\n",
    "### Decision Variables\n",
    "- $x_{ij}$: the number of units of goods shipped from supply location $i$ to demand location $j$.  \n",
    "\n",
    "\n"
   ]
  },
  {
   "cell_type": "code",
   "execution_count": 213,
   "id": "bdf90dd9",
   "metadata": {},
   "outputs": [],
   "source": [
    "#Import the neccessary libraries and modules\n",
    "import gurobipy as gp\n",
    "from gurobipy import  Model, GRB, quicksum\n",
    "from array import array\n",
    "from gurobipy import *\n",
    "import numpy as np\n",
    "import time\n",
    "import pandas as pd"
   ]
  },
  {
   "cell_type": "code",
   "execution_count": 214,
   "id": "904e677c",
   "metadata": {},
   "outputs": [],
   "source": [
    "#Loading the data from excel file 'Transportatioin.xlsx'\n",
    "df = pd.read_excel('Transportation.xlsx' , sheet_name = 0)"
   ]
  },
  {
   "cell_type": "code",
   "execution_count": 215,
   "id": "12c4333e",
   "metadata": {},
   "outputs": [
    {
     "data": {
      "text/html": [
       "<div>\n",
       "<style scoped>\n",
       "    .dataframe tbody tr th:only-of-type {\n",
       "        vertical-align: middle;\n",
       "    }\n",
       "\n",
       "    .dataframe tbody tr th {\n",
       "        vertical-align: top;\n",
       "    }\n",
       "\n",
       "    .dataframe thead th {\n",
       "        text-align: right;\n",
       "    }\n",
       "</style>\n",
       "<table border=\"1\" class=\"dataframe\">\n",
       "  <thead>\n",
       "    <tr style=\"text-align: right;\">\n",
       "      <th></th>\n",
       "      <th>City</th>\n",
       "      <th>Moncton</th>\n",
       "      <th>Sydney</th>\n",
       "      <th>Ottawa</th>\n",
       "      <th>Truro</th>\n",
       "      <th>Saint John</th>\n",
       "      <th>PEI</th>\n",
       "      <th>Hamilton</th>\n",
       "      <th>Waterloo</th>\n",
       "      <th>Capacity</th>\n",
       "    </tr>\n",
       "  </thead>\n",
       "  <tbody>\n",
       "    <tr>\n",
       "      <th>0</th>\n",
       "      <td>Halifax</td>\n",
       "      <td>98</td>\n",
       "      <td>65</td>\n",
       "      <td>90</td>\n",
       "      <td>68</td>\n",
       "      <td>52</td>\n",
       "      <td>134</td>\n",
       "      <td>108</td>\n",
       "      <td>118</td>\n",
       "      <td>187.0</td>\n",
       "    </tr>\n",
       "    <tr>\n",
       "      <th>1</th>\n",
       "      <td>London</td>\n",
       "      <td>51</td>\n",
       "      <td>92</td>\n",
       "      <td>66</td>\n",
       "      <td>123</td>\n",
       "      <td>93</td>\n",
       "      <td>138</td>\n",
       "      <td>130</td>\n",
       "      <td>57</td>\n",
       "      <td>893.0</td>\n",
       "    </tr>\n",
       "    <tr>\n",
       "      <th>2</th>\n",
       "      <td>Ajax</td>\n",
       "      <td>86</td>\n",
       "      <td>112</td>\n",
       "      <td>100</td>\n",
       "      <td>85</td>\n",
       "      <td>147</td>\n",
       "      <td>142</td>\n",
       "      <td>83</td>\n",
       "      <td>84</td>\n",
       "      <td>488.0</td>\n",
       "    </tr>\n",
       "    <tr>\n",
       "      <th>3</th>\n",
       "      <td>Toronto</td>\n",
       "      <td>98</td>\n",
       "      <td>72</td>\n",
       "      <td>148</td>\n",
       "      <td>149</td>\n",
       "      <td>101</td>\n",
       "      <td>75</td>\n",
       "      <td>55</td>\n",
       "      <td>144</td>\n",
       "      <td>769.0</td>\n",
       "    </tr>\n",
       "    <tr>\n",
       "      <th>4</th>\n",
       "      <td>Montreal</td>\n",
       "      <td>110</td>\n",
       "      <td>50</td>\n",
       "      <td>83</td>\n",
       "      <td>105</td>\n",
       "      <td>142</td>\n",
       "      <td>66</td>\n",
       "      <td>68</td>\n",
       "      <td>65</td>\n",
       "      <td>663.0</td>\n",
       "    </tr>\n",
       "    <tr>\n",
       "      <th>5</th>\n",
       "      <td>Demand</td>\n",
       "      <td>345</td>\n",
       "      <td>398</td>\n",
       "      <td>462</td>\n",
       "      <td>287</td>\n",
       "      <td>532</td>\n",
       "      <td>196</td>\n",
       "      <td>765</td>\n",
       "      <td>15</td>\n",
       "      <td>NaN</td>\n",
       "    </tr>\n",
       "  </tbody>\n",
       "</table>\n",
       "</div>"
      ],
      "text/plain": [
       "       City  Moncton  Sydney  Ottawa  Truro  Saint John  PEI  Hamilton  \\\n",
       "0   Halifax       98      65      90     68          52  134       108   \n",
       "1    London       51      92      66    123          93  138       130   \n",
       "2      Ajax       86     112     100     85         147  142        83   \n",
       "3   Toronto       98      72     148    149         101   75        55   \n",
       "4  Montreal      110      50      83    105         142   66        68   \n",
       "5    Demand      345     398     462    287         532  196       765   \n",
       "\n",
       "   Waterloo  Capacity  \n",
       "0       118     187.0  \n",
       "1        57     893.0  \n",
       "2        84     488.0  \n",
       "3       144     769.0  \n",
       "4        65     663.0  \n",
       "5        15       NaN  "
      ]
     },
     "execution_count": 215,
     "metadata": {},
     "output_type": "execute_result"
    }
   ],
   "source": [
    "df"
   ]
  },
  {
   "cell_type": "code",
   "execution_count": 216,
   "id": "80ce59a8",
   "metadata": {},
   "outputs": [],
   "source": [
    "#Extracting the necessary data from data frame\n",
    "array_value = df.iloc[0:5, 1:9].values"
   ]
  },
  {
   "cell_type": "code",
   "execution_count": 217,
   "id": "641a121f",
   "metadata": {},
   "outputs": [
    {
     "data": {
      "text/plain": [
       "[187.0, 893.0, 488.0, 769.0, 663.0]"
      ]
     },
     "execution_count": 217,
     "metadata": {},
     "output_type": "execute_result"
    }
   ],
   "source": [
    "#Creating source list-cost\n",
    "origin = df.iloc[0:5, 9].tolist()\n",
    "origin"
   ]
  },
  {
   "cell_type": "code",
   "execution_count": 218,
   "id": "4110c420",
   "metadata": {},
   "outputs": [
    {
     "data": {
      "text/plain": [
       "[345, 398, 462, 287, 532, 196, 765, 15]"
      ]
     },
     "execution_count": 218,
     "metadata": {},
     "output_type": "execute_result"
    }
   ],
   "source": [
    "#Creating destination list-cost\n",
    "destination = df.iloc[5, 1:9].tolist()\n",
    "destination"
   ]
  },
  {
   "cell_type": "code",
   "execution_count": 219,
   "id": "8d3846bf",
   "metadata": {},
   "outputs": [
    {
     "data": {
      "text/plain": [
       "['Halifax', 'London', 'Ajax', 'Toronto', 'Montreal']"
      ]
     },
     "execution_count": 219,
     "metadata": {},
     "output_type": "execute_result"
    }
   ],
   "source": [
    "O = df.iloc[0:5, 0].tolist()\n",
    "O"
   ]
  },
  {
   "cell_type": "code",
   "execution_count": 220,
   "id": "e783cffb",
   "metadata": {},
   "outputs": [
    {
     "data": {
      "text/plain": [
       "['Moncton',\n",
       " 'Sydney',\n",
       " 'Ottawa',\n",
       " 'Truro',\n",
       " 'Saint John',\n",
       " 'PEI',\n",
       " 'Hamilton',\n",
       " 'Waterloo']"
      ]
     },
     "execution_count": 220,
     "metadata": {},
     "output_type": "execute_result"
    }
   ],
   "source": [
    "D = list(df.columns.values)[1:9]\n",
    "D"
   ]
  },
  {
   "cell_type": "code",
   "execution_count": 221,
   "id": "3d40319e",
   "metadata": {},
   "outputs": [],
   "source": [
    "#Creating dictonaries and list to store the data\n",
    "list1 = [(i, j) for i in O for j in D]"
   ]
  },
  {
   "cell_type": "code",
   "execution_count": 222,
   "id": "c28ecf0a",
   "metadata": {},
   "outputs": [
    {
     "data": {
      "text/plain": [
       "[('Halifax', 'Moncton'),\n",
       " ('Halifax', 'Sydney'),\n",
       " ('Halifax', 'Ottawa'),\n",
       " ('Halifax', 'Truro'),\n",
       " ('Halifax', 'Saint John'),\n",
       " ('Halifax', 'PEI'),\n",
       " ('Halifax', 'Hamilton'),\n",
       " ('Halifax', 'Waterloo'),\n",
       " ('London', 'Moncton'),\n",
       " ('London', 'Sydney'),\n",
       " ('London', 'Ottawa'),\n",
       " ('London', 'Truro'),\n",
       " ('London', 'Saint John'),\n",
       " ('London', 'PEI'),\n",
       " ('London', 'Hamilton'),\n",
       " ('London', 'Waterloo'),\n",
       " ('Ajax', 'Moncton'),\n",
       " ('Ajax', 'Sydney'),\n",
       " ('Ajax', 'Ottawa'),\n",
       " ('Ajax', 'Truro'),\n",
       " ('Ajax', 'Saint John'),\n",
       " ('Ajax', 'PEI'),\n",
       " ('Ajax', 'Hamilton'),\n",
       " ('Ajax', 'Waterloo'),\n",
       " ('Toronto', 'Moncton'),\n",
       " ('Toronto', 'Sydney'),\n",
       " ('Toronto', 'Ottawa'),\n",
       " ('Toronto', 'Truro'),\n",
       " ('Toronto', 'Saint John'),\n",
       " ('Toronto', 'PEI'),\n",
       " ('Toronto', 'Hamilton'),\n",
       " ('Toronto', 'Waterloo'),\n",
       " ('Montreal', 'Moncton'),\n",
       " ('Montreal', 'Sydney'),\n",
       " ('Montreal', 'Ottawa'),\n",
       " ('Montreal', 'Truro'),\n",
       " ('Montreal', 'Saint John'),\n",
       " ('Montreal', 'PEI'),\n",
       " ('Montreal', 'Hamilton'),\n",
       " ('Montreal', 'Waterloo')]"
      ]
     },
     "execution_count": 222,
     "metadata": {},
     "output_type": "execute_result"
    }
   ],
   "source": [
    "list1"
   ]
  },
  {
   "cell_type": "code",
   "execution_count": 223,
   "id": "798bda79",
   "metadata": {},
   "outputs": [],
   "source": [
    "#Arc cost - flatten()\n",
    "cost = np.array(array_value).flatten()"
   ]
  },
  {
   "cell_type": "code",
   "execution_count": 224,
   "id": "d2bd7b62",
   "metadata": {},
   "outputs": [
    {
     "data": {
      "text/plain": [
       "array([ 98,  65,  90,  68,  52, 134, 108, 118,  51,  92,  66, 123,  93,\n",
       "       138, 130,  57,  86, 112, 100,  85, 147, 142,  83,  84,  98,  72,\n",
       "       148, 149, 101,  75,  55, 144, 110,  50,  83, 105, 142,  66,  68,\n",
       "        65])"
      ]
     },
     "execution_count": 224,
     "metadata": {},
     "output_type": "execute_result"
    }
   ],
   "source": [
    "#printing the cost\n",
    "cost"
   ]
  },
  {
   "cell_type": "code",
   "execution_count": 225,
   "id": "6cd9865c",
   "metadata": {},
   "outputs": [
    {
     "data": {
      "text/plain": [
       "{('Halifax', 'Moncton'): 98,\n",
       " ('Halifax', 'Sydney'): 65,\n",
       " ('Halifax', 'Ottawa'): 90,\n",
       " ('Halifax', 'Truro'): 68,\n",
       " ('Halifax', 'Saint John'): 52,\n",
       " ('Halifax', 'PEI'): 134,\n",
       " ('Halifax', 'Hamilton'): 108,\n",
       " ('Halifax', 'Waterloo'): 118,\n",
       " ('London', 'Moncton'): 51,\n",
       " ('London', 'Sydney'): 92,\n",
       " ('London', 'Ottawa'): 66,\n",
       " ('London', 'Truro'): 123,\n",
       " ('London', 'Saint John'): 93,\n",
       " ('London', 'PEI'): 138,\n",
       " ('London', 'Hamilton'): 130,\n",
       " ('London', 'Waterloo'): 57,\n",
       " ('Ajax', 'Moncton'): 86,\n",
       " ('Ajax', 'Sydney'): 112,\n",
       " ('Ajax', 'Ottawa'): 100,\n",
       " ('Ajax', 'Truro'): 85,\n",
       " ('Ajax', 'Saint John'): 147,\n",
       " ('Ajax', 'PEI'): 142,\n",
       " ('Ajax', 'Hamilton'): 83,\n",
       " ('Ajax', 'Waterloo'): 84,\n",
       " ('Toronto', 'Moncton'): 98,\n",
       " ('Toronto', 'Sydney'): 72,\n",
       " ('Toronto', 'Ottawa'): 148,\n",
       " ('Toronto', 'Truro'): 149,\n",
       " ('Toronto', 'Saint John'): 101,\n",
       " ('Toronto', 'PEI'): 75,\n",
       " ('Toronto', 'Hamilton'): 55,\n",
       " ('Toronto', 'Waterloo'): 144,\n",
       " ('Montreal', 'Moncton'): 110,\n",
       " ('Montreal', 'Sydney'): 50,\n",
       " ('Montreal', 'Ottawa'): 83,\n",
       " ('Montreal', 'Truro'): 105,\n",
       " ('Montreal', 'Saint John'): 142,\n",
       " ('Montreal', 'PEI'): 66,\n",
       " ('Montreal', 'Hamilton'): 68,\n",
       " ('Montreal', 'Waterloo'): 65}"
      ]
     },
     "execution_count": 225,
     "metadata": {},
     "output_type": "execute_result"
    }
   ],
   "source": [
    "cost_values = {list1[i]: cost[i] for i in range(len(list1))}\n",
    "cost_values"
   ]
  },
  {
   "cell_type": "code",
   "execution_count": 226,
   "id": "10963893",
   "metadata": {
    "scrolled": false
   },
   "outputs": [
    {
     "data": {
      "text/plain": [
       "{'Halifax': 187.0,\n",
       " 'London': 893.0,\n",
       " 'Ajax': 488.0,\n",
       " 'Toronto': 769.0,\n",
       " 'Montreal': 663.0}"
      ]
     },
     "execution_count": 226,
     "metadata": {},
     "output_type": "execute_result"
    }
   ],
   "source": [
    "O_origin = {O[i] : origin[i] for i in range(len(origin))}\n",
    "O_origin"
   ]
  },
  {
   "cell_type": "code",
   "execution_count": 227,
   "id": "9e56eea3",
   "metadata": {},
   "outputs": [
    {
     "data": {
      "text/plain": [
       "{'Moncton': 345,\n",
       " 'Sydney': 398,\n",
       " 'Ottawa': 462,\n",
       " 'Truro': 287,\n",
       " 'Saint John': 532,\n",
       " 'PEI': 196,\n",
       " 'Hamilton': 765,\n",
       " 'Waterloo': 15}"
      ]
     },
     "execution_count": 227,
     "metadata": {},
     "output_type": "execute_result"
    }
   ],
   "source": [
    "D_destination = {D[i] : destination[i] for i in range(len(destination))}\n",
    "D_destination"
   ]
  },
  {
   "cell_type": "code",
   "execution_count": 228,
   "id": "b2e9c691",
   "metadata": {},
   "outputs": [],
   "source": [
    "#Making sure that Total Supply = Demand"
   ]
  },
  {
   "cell_type": "code",
   "execution_count": 229,
   "id": "e4980bed",
   "metadata": {},
   "outputs": [],
   "source": [
    "d=len(O_origin.values())\n",
    "if sum(O_origin.values()) < sum(D_destination.values()):\n",
    "    diff = sum(D_destination.values()) - sum(O_origin.values()) \n",
    "    O_origin[d] += diff"
   ]
  },
  {
   "cell_type": "code",
   "execution_count": 230,
   "id": "c4577e56",
   "metadata": {},
   "outputs": [],
   "source": [
    "#Initialize the model\n",
    "model = gp.Model('transport model')"
   ]
  },
  {
   "cell_type": "code",
   "execution_count": 231,
   "id": "efe8d4b1",
   "metadata": {},
   "outputs": [],
   "source": [
    "#Adding the decision variables \n",
    "x = {}\n",
    "for i in O:\n",
    "    for j in D:\n",
    "        x[i,j] = model.addVar(vtype = 'I', name = 'x(%s,%s)' %(i,j))"
   ]
  },
  {
   "cell_type": "code",
   "execution_count": 232,
   "id": "f19ff5f2",
   "metadata": {},
   "outputs": [],
   "source": [
    "#Adding constraints to the model\n",
    "for i in O:\n",
    "    model.addConstr(quicksum(x[i,j] for j in D) <= O_origin[i], name = 'Origin(%s)' % i)"
   ]
  },
  {
   "cell_type": "code",
   "execution_count": 233,
   "id": "c634c1ae",
   "metadata": {},
   "outputs": [],
   "source": [
    "for j in D:\n",
    "    model.addConstr(quicksum(x[i,j] for i in O) >= D_destination[j], name = 'Destination(%s)' % j)"
   ]
  },
  {
   "cell_type": "code",
   "execution_count": 234,
   "id": "14089c68",
   "metadata": {},
   "outputs": [],
   "source": [
    "#Set objective function\n",
    "model.setObjective(quicksum(x[i,j] * transit_cost[i,j] for i,j in transit), GRB.MINIMIZE)"
   ]
  },
  {
   "cell_type": "code",
   "execution_count": 235,
   "id": "7f4cf145",
   "metadata": {},
   "outputs": [],
   "source": [
    "#Update the model\n",
    "model.update()"
   ]
  },
  {
   "cell_type": "code",
   "execution_count": 236,
   "id": "3026b74c",
   "metadata": {},
   "outputs": [
    {
     "name": "stdout",
     "output_type": "stream",
     "text": [
      "Warning: variable name \"x(Halifax,Saint John)\" has a space\n",
      "Warning: constraint name \"Destination(Saint John)\" has a space\n",
      "Warning: to let Gurobi read it back, use rlp format\n"
     ]
    }
   ],
   "source": [
    "model.write('supply_demand2.lp')"
   ]
  },
  {
   "cell_type": "code",
   "execution_count": 237,
   "id": "2398c11a",
   "metadata": {},
   "outputs": [
    {
     "name": "stdout",
     "output_type": "stream",
     "text": [
      "Gurobi Optimizer version 10.0.3 build v10.0.3rc0 (mac64[arm])\n",
      "\n",
      "CPU model: Apple M1\n",
      "Thread count: 8 physical cores, 8 logical processors, using up to 8 threads\n",
      "\n",
      "Optimize a model with 13 rows, 40 columns and 80 nonzeros\n",
      "Model fingerprint: 0xf6fa9e87\n",
      "Variable types: 0 continuous, 40 integer (0 binary)\n",
      "Coefficient statistics:\n",
      "  Matrix range     [1e+00, 1e+00]\n",
      "  Objective range  [5e+01, 1e+02]\n",
      "  Bounds range     [0e+00, 0e+00]\n",
      "  RHS range        [2e+01, 9e+02]\n",
      "Found heuristic solution: objective 256232.00000\n",
      "Presolve time: 0.00s\n",
      "Presolved: 13 rows, 40 columns, 80 nonzeros\n",
      "Variable types: 0 continuous, 40 integer (0 binary)\n",
      "\n",
      "Root relaxation: objective 1.979610e+05, 12 iterations, 0.00 seconds (0.00 work units)\n",
      "\n",
      "    Nodes    |    Current Node    |     Objective Bounds      |     Work\n",
      " Expl Unexpl |  Obj  Depth IntInf | Incumbent    BestBd   Gap | It/Node Time\n",
      "\n",
      "*    0     0               0    197961.00000 197961.000  0.00%     -    0s\n",
      "\n",
      "Explored 1 nodes (12 simplex iterations) in 0.01 seconds (0.00 work units)\n",
      "Thread count was 8 (of 8 available processors)\n",
      "\n",
      "Solution count 2: 197961 256232 \n",
      "\n",
      "Optimal solution found (tolerance 1.00e-04)\n",
      "Best objective 1.979610000000e+05, best bound 1.979610000000e+05, gap 0.0000%\n"
     ]
    }
   ],
   "source": [
    "#Optimize the model\n",
    "start = time.time()\n",
    "model.optimize()\n",
    "end = time.time()\n",
    "\n",
    "def print_solution(model):\n",
    "    if model.status != GRB.OPTIMAL:\n",
    "        print('Model is not optimized!')\n",
    "    else:\n",
    "        print('Optimal Value: ' , model.ObjVal)\n",
    "        print('Solution time: ' , end - start, 'seconds')\n",
    "        print('==========================================')\n",
    "        vars = model.getVars()\n",
    "        values = model.getAttr('x', vars)\n",
    "        for var, val in zip(vars, values):\n",
    "            if val > 1e-6:\n",
    "                print(f\"{var.varName}: {val}\")"
   ]
  },
  {
   "cell_type": "code",
   "execution_count": 238,
   "id": "46c0003f",
   "metadata": {},
   "outputs": [
    {
     "name": "stdout",
     "output_type": "stream",
     "text": [
      "Optimal Value:  197961.0\n",
      "Solution time:  0.019556760787963867 seconds\n",
      "==========================================\n",
      "x(Halifax,Saint John): 187.0\n",
      "x(London,Moncton): 345.0\n",
      "x(London,Ottawa): 207.0\n",
      "x(London,Saint John): 341.0\n",
      "x(Ajax,Ottawa): 201.0\n",
      "x(Ajax,Truro): 287.0\n",
      "x(Toronto,Saint John): 4.0\n",
      "x(Toronto,Hamilton): 765.0\n",
      "x(Montreal,Sydney): 398.0\n",
      "x(Montreal,Ottawa): 54.0\n",
      "x(Montreal,PEI): 196.0\n",
      "x(Montreal,Waterloo): 15.0\n"
     ]
    }
   ],
   "source": [
    "print_solution(model)"
   ]
  },
  {
   "cell_type": "code",
   "execution_count": null,
   "id": "b9b95cac",
   "metadata": {},
   "outputs": [],
   "source": []
  },
  {
   "cell_type": "code",
   "execution_count": null,
   "id": "cdc24f7b",
   "metadata": {},
   "outputs": [],
   "source": []
  },
  {
   "cell_type": "code",
   "execution_count": null,
   "id": "73b0c0f6",
   "metadata": {},
   "outputs": [],
   "source": []
  }
 ],
 "metadata": {
  "kernelspec": {
   "display_name": "Python 3 (ipykernel)",
   "language": "python",
   "name": "python3"
  },
  "language_info": {
   "codemirror_mode": {
    "name": "ipython",
    "version": 3
   },
   "file_extension": ".py",
   "mimetype": "text/x-python",
   "name": "python",
   "nbconvert_exporter": "python",
   "pygments_lexer": "ipython3",
   "version": "3.11.5"
  }
 },
 "nbformat": 4,
 "nbformat_minor": 5
}
